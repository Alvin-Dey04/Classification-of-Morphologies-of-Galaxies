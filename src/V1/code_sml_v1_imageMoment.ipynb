{
 "cells": [
  {
   "cell_type": "code",
   "execution_count": 2,
   "metadata": {},
   "outputs": [],
   "source": [
    "import numpy as np\n",
    "import cv2\n",
    "import os\n",
    "from skimage.feature import local_binary_pattern\n",
    "import copy\n",
    "from numpy.linalg import norm\n",
    "import matplotlib.pyplot as plt\n",
    "from sklearn.decomposition import PCA\n",
    "from sklearn.linear_model import Lasso\n",
    "from sklearn.linear_model import LinearRegression\n",
    "from collections import defaultdict\n",
    "from sklearn.metrics import mean_squared_error\n",
    "from sklearn.ensemble import RandomForestRegressor\n",
    "from sklearn.linear_model import Ridge\n",
    "from sklearn.model_selection import validation_curve\n",
    "from skimage.feature import hog\n",
    "import pandas as pd\n",
    "from sklearn.metrics import mean_squared_error\n",
    "from sklearn.externals import joblib \n",
    "import time"
   ]
  },
  {
   "cell_type": "code",
   "execution_count": 3,
   "metadata": {},
   "outputs": [],
   "source": [
    "def scrapeFile(file):\n",
    "    filepath = file\n",
    "    X={}\n",
    "    Y={}\n",
    "    with open(filepath) as fp:  \n",
    "        line = fp.readline()      \n",
    "        while line:\n",
    "            l=line.strip()\n",
    "            a=l.split(\",\")\n",
    "            temp=[]\n",
    "            for p in a[1:]:\n",
    "                temp.append(float(p))\n",
    "            X[int(a[0])]=temp\n",
    "            Y[int(a[0])]=np.argmax(temp)\n",
    "            line = fp.readline()\n",
    "    return X,Y"
   ]
  },
  {
   "cell_type": "code",
   "execution_count": 4,
   "metadata": {},
   "outputs": [],
   "source": [
    "def hog_f(image):\n",
    "    hist = hog(image,orientations=9,pixels_per_cell=(16,16),cells_per_block=(3,3))\n",
    "    temp=[]\n",
    "    for j in range(len(hist)):\n",
    "        temp.append(hist[j])\n",
    "    return temp"
   ]
  },
  {
   "cell_type": "code",
   "execution_count": 5,
   "metadata": {},
   "outputs": [],
   "source": [
    "def lbp_f(image):\n",
    "    lbp = local_binary_pattern(image,8,1,'uniform') \n",
    "    lbp_hist = np.histogram(lbp, bins=np.arange(257), density=True)[0]\n",
    "    return list(lbp_hist)"
   ]
  },
  {
   "cell_type": "code",
   "execution_count": 6,
   "metadata": {},
   "outputs": [],
   "source": [
    "def color_lbp_f(image):\n",
    "    R=image[:,:,2]\n",
    "    G=image[:,:,1]\n",
    "    B=image[:,:,0]    \n",
    "    lbp_r = local_binary_pattern(R,8,1,'uniform')\n",
    "    lbp_g = local_binary_pattern(G,8,1,'uniform')\n",
    "    lbp_b = local_binary_pattern(B,8,1,'uniform') \n",
    "    l_r = np.histogram(lbp_r, bins=np.arange(257), density=True)[0]\n",
    "    l_g = np.histogram(lbp_g, bins=np.arange(257), density=True)[0]\n",
    "    l_b = np.histogram(lbp_b, bins=np.arange(257), density=True)[0] \n",
    "    return list(l_b)+list(l_g)+list(l_r)"
   ]
  },
  {
   "cell_type": "code",
   "execution_count": 7,
   "metadata": {},
   "outputs": [],
   "source": [
    "def color_hog_f(image):\n",
    "    R=image[:,:,2]\n",
    "    G=image[:,:,1]\n",
    "    B=image[:,:,0]\n",
    "    hist_R =hog(R,orientations=9,pixels_per_cell=(16,16),cells_per_block=(3,3))\n",
    "    hist_G=hog(G,orientations=9,pixels_per_cell=(16,16),cells_per_block=(3,3))\n",
    "    hist_B=hog(B,orientations=9,pixels_per_cell=(16,16),cells_per_block=(3,3))\n",
    "    temp1=[]\n",
    "    temp2=[]\n",
    "    temp3=[]\n",
    "    for j in range(len(hist_R)):\n",
    "        temp1.append(hist_R[j])\n",
    "        temp2.append(hist_G[j])\n",
    "        temp3.append(hist_B[j])\n",
    "    return temp3+temp2+temp1"
   ]
  },
  {
   "cell_type": "code",
   "execution_count": 8,
   "metadata": {},
   "outputs": [],
   "source": [
    "###########################PCA############################\n",
    "def pca_feature(X):\n",
    "    pca=PCA(n_components=0.99)\n",
    "    pca.fit(X)\n",
    "    newX=(pca.transform(X))\n",
    "    return list(newX)"
   ]
  },
  {
   "cell_type": "code",
   "execution_count": 9,
   "metadata": {},
   "outputs": [],
   "source": [
    "###################MOMENTS FEATURE#########################\n",
    "def image_moment_feature(image):\n",
    "    ret,thresh = cv2.threshold(image,80,255,0)\n",
    "    im2,contours,hierarchy = cv2.findContours(thresh, 1, 2)\n",
    "    #print(np.shape(contours))\n",
    "    cnt = contours[0]\n",
    "    M = cv2.moments(cnt)\n",
    "    f=[]\n",
    "    for k in M:\n",
    "        f.append(M[k])\n",
    "    return list(f)"
   ]
  },
  {
   "cell_type": "code",
   "execution_count": 10,
   "metadata": {},
   "outputs": [],
   "source": [
    "def feature_extraction(img,gray):\n",
    "    featureset=[]\n",
    "    #featureset+=lbp_f(gray)\n",
    "    featureset+=image_moment_feature(gray)\n",
    "    #featureset+=hog_f(gray)\n",
    "    return featureset"
   ]
  },
  {
   "cell_type": "code",
   "execution_count": 11,
   "metadata": {},
   "outputs": [],
   "source": [
    "def qwise_prediction(prediction):\n",
    "    prediction=np.array(prediction)\n",
    "    prediction=prediction.T\n",
    "    Q1_pred=normalize(prediction[:,0:3])\n",
    "    Q2_pred=normalize(prediction[:, 3:5])\n",
    "    Q3_pred=normalize(prediction[:, 5:7])\n",
    "    Q4_pred=normalize(prediction[:, 7:9])\n",
    "    Q5_pred=normalize(prediction[:, 9:13])\n",
    "    Q6_pred=normalize(prediction[:, 13:15])\n",
    "    Q7_pred=normalize(prediction[:, 15:18])\n",
    "    Q8_pred=normalize(prediction[:, 18:25])\n",
    "    Q9_pred=normalize(prediction[:, 25:28])\n",
    "    Q10_pred=normalize(prediction[:, 28:31])\n",
    "    Q11_pred=normalize(prediction[:, 31:37])\n",
    "    result=[Q1_pred,Q2_pred,Q3_pred,Q4_pred,Q5_pred,Q6_pred,Q7_pred,Q8_pred,Q9_pred,Q10_pred,Q11_pred]\n",
    "    return result\n"
   ]
  },
  {
   "cell_type": "code",
   "execution_count": 12,
   "metadata": {},
   "outputs": [],
   "source": [
    "def rmse_calculation(y_true,prediction):\n",
    "    mse=[]\n",
    "    for i in range(11):\n",
    "        y=np.array(y_true[i].iloc[7000:10000])\n",
    "        mse.append(mean_squared_error(y,prediction[i]))\n",
    "    return mse"
   ]
  },
  {
   "cell_type": "code",
   "execution_count": 13,
   "metadata": {},
   "outputs": [],
   "source": [
    "def plotGraph(x,y):\n",
    "    plt.bar(x,y)\n",
    "    plt.xlabel(\"Question\")\n",
    "    plt.ylabel(\"RMSE\")\n",
    "    plt.show()"
   ]
  },
  {
   "cell_type": "code",
   "execution_count": 30,
   "metadata": {},
   "outputs": [],
   "source": [
    "def normalize(zl):\n",
    "    e_x = np.exp(zl - np.max(zl))\n",
    "    gz=e_x / e_x.sum()\n",
    "    y=gz/gz.sum(axis=1)[:,None]\n",
    "    return y"
   ]
  },
  {
   "cell_type": "code",
   "execution_count": 14,
   "metadata": {},
   "outputs": [],
   "source": [
    "df=pd.read_csv(\"training_solutions_rev1.csv\")\n",
    "y=[\"GalaxyID\"]\n",
    "for x in df.columns[1:]:\n",
    "    y.append(x[-1])\n",
    "df.columns=y"
   ]
  },
  {
   "cell_type": "code",
   "execution_count": 15,
   "metadata": {},
   "outputs": [],
   "source": [
    "#Separation of questions\n",
    "Q1=df.iloc[:, 1:4]\n",
    "q1=pd.concat([df[\"GalaxyID\"].to_frame(),Q1],axis=1)\n",
    "Q2=df.iloc[:, 4:6]\n",
    "q2=pd.concat([df[\"GalaxyID\"].to_frame(),Q1],axis=1)\n",
    "Q3=df.iloc[:, 6:8]\n",
    "q3=pd.concat([df[\"GalaxyID\"].to_frame(),Q1],axis=1)\n",
    "Q4=df.iloc[:, 8:10]\n",
    "q4=pd.concat([df[\"GalaxyID\"].to_frame(),Q1],axis=1)\n",
    "Q5=df.iloc[:, 10:14]\n",
    "q5=pd.concat([df[\"GalaxyID\"].to_frame(),Q1],axis=1)\n",
    "Q6=df.iloc[:, 14:16]\n",
    "q6=pd.concat([df[\"GalaxyID\"].to_frame(),Q1],axis=1)\n",
    "Q7=df.iloc[:, 16:19]\n",
    "q7=pd.concat([df[\"GalaxyID\"].to_frame(),Q1],axis=1)\n",
    "Q8=df.iloc[:, 19:26]\n",
    "q8=pd.concat([df[\"GalaxyID\"].to_frame(),Q1],axis=1)\n",
    "Q9=df.iloc[:, 26:29]\n",
    "q9=pd.concat([df[\"GalaxyID\"].to_frame(),Q1],axis=1)\n",
    "Q10=df.iloc[:, 29:32]\n",
    "q10=pd.concat([df[\"GalaxyID\"].to_frame(),Q1],axis=1)\n",
    "Q11=df.iloc[:, 32:38]\n",
    "q11=pd.concat([df[\"GalaxyID\"].to_frame(),Q1],axis=1)\n",
    "Q_idx=[Q1,Q2,Q3,Q4,Q5,Q6,Q7,Q8,Q9,Q10,Q11]"
   ]
  },
  {
   "cell_type": "code",
   "execution_count": 16,
   "metadata": {},
   "outputs": [],
   "source": [
    "train_ids=np.array(q1[\"GalaxyID\"])[0:7000]\n",
    "test_ids=np.array(q1[\"GalaxyID\"])[7000:10000]"
   ]
  },
  {
   "cell_type": "code",
   "execution_count": 17,
   "metadata": {},
   "outputs": [],
   "source": [
    "X,Y=scrapeFile(\"training_solutions\")\n"
   ]
  },
  {
   "cell_type": "code",
   "execution_count": 18,
   "metadata": {},
   "outputs": [
    {
     "name": "stdout",
     "output_type": "stream",
     "text": [
      "0 ..Done\n",
      "1000 ..Done\n",
      "2000 ..Done\n",
      "3000 ..Done\n",
      "4000 ..Done\n",
      "5000 ..Done\n",
      "6000 ..Done\n"
     ]
    }
   ],
   "source": [
    "train_features=[]\n",
    "datapath=\"images_training_rev1/\"\n",
    "train_features=[]\n",
    "for i in range(7000):\n",
    "    path=\"images_training_rev1/\"+str(train_ids[i])+\".jpg\"\n",
    "    image=cv2.imread(path)\n",
    "    gray=cv2.imread(path,0)\n",
    "    crop1 = image[108:108+207, 108:108+207]\n",
    "    crop2 = gray[108:108+207, 108:108+207]\n",
    "    feature=feature_extraction(crop1,crop2)\n",
    "    train_features.append(feature)\n",
    "    if i%1000==0:\n",
    "        print(i,\"..Done\")"
   ]
  },
  {
   "cell_type": "code",
   "execution_count": 19,
   "metadata": {},
   "outputs": [
    {
     "data": {
      "text/plain": [
       "24"
      ]
     },
     "execution_count": 19,
     "metadata": {},
     "output_type": "execute_result"
    }
   ],
   "source": [
    "len(train_features[0])"
   ]
  },
  {
   "cell_type": "code",
   "execution_count": 20,
   "metadata": {},
   "outputs": [
    {
     "name": "stdout",
     "output_type": "stream",
     "text": [
      "0 ..Done\n",
      "1000 ..Done\n",
      "2000 ..Done\n"
     ]
    }
   ],
   "source": [
    "test_features=[]\n",
    "for i in range(3000):\n",
    "    path=\"images_training_rev1/\"+str(test_ids[i])+\".jpg\"\n",
    "    image=cv2.imread(path)\n",
    "    gray=cv2.imread(path,0)\n",
    "    crop1 = image[108:108+207, 108:108+207]\n",
    "    crop2 = gray[108:108+207, 108:108+207]\n",
    "    feature=feature_extraction(crop1,crop2)\n",
    "    test_features.append(feature)\n",
    "    if i%1000==0:\n",
    "        print(i,\"..Done\")"
   ]
  },
  {
   "cell_type": "code",
   "execution_count": 21,
   "metadata": {},
   "outputs": [
    {
     "name": "stdout",
     "output_type": "stream",
     "text": [
      "1000 ..Done\n",
      "2000 ..Done\n",
      "3000 ..Done\n",
      "4000 ..Done\n",
      "5000 ..Done\n",
      "6000 ..Done\n",
      "7000 ..Done\n",
      "8000 ..Done\n",
      "9000 ..Done\n",
      "10000 ..Done\n"
     ]
    }
   ],
   "source": [
    "datapath=\"images_training_rev1/\"\n",
    "files_list = sorted(os.listdir(datapath))\n",
    "dataset=[]\n",
    "datalabel=[]\n",
    "category=defaultdict(list)\n",
    "featureset=[]\n",
    "idx=0\n",
    "for file in files_list[0:10000]:\n",
    "    id1=int(file[:-4])\n",
    "    datalabel.append(X[id1])\n",
    "    for i in range(37):\n",
    "        category[i].append(X[id1][i])\n",
    "    idx+=1\n",
    "    if idx%1000==0:\n",
    "        print(idx,\"..Done\")\n",
    "    \n"
   ]
  },
  {
   "cell_type": "code",
   "execution_count": 22,
   "metadata": {},
   "outputs": [
    {
     "name": "stdout",
     "output_type": "stream",
     "text": [
      "0 ..Done Time= 0.024959325790405273\n",
      "1 ..Done Time= 0.02004408836364746\n",
      "2 ..Done Time= 0.01864027976989746\n",
      "3 ..Done Time= 0.02529454231262207\n",
      "4 ..Done Time= 0.031626224517822266\n",
      "5 ..Done Time= 0.031287193298339844\n",
      "6 ..Done Time= 0.022536754608154297\n",
      "7 ..Done Time= 0.0181429386138916\n",
      "8 ..Done Time= 0.01818704605102539\n",
      "9 ..Done Time= 0.018805742263793945\n",
      "10 ..Done Time= 0.03127145767211914\n",
      "11 ..Done Time= 0.0320429801940918\n",
      "12 ..Done Time= 0.027498245239257812\n",
      "13 ..Done Time= 0.021029949188232422\n",
      "14 ..Done Time= 0.01858687400817871\n",
      "15 ..Done Time= 0.0185391902923584\n",
      "16 ..Done Time= 0.018661022186279297\n",
      "17 ..Done Time= 0.01850581169128418\n",
      "18 ..Done Time= 0.019968748092651367\n",
      "19 ..Done Time= 0.019323348999023438\n",
      "20 ..Done Time= 0.01851487159729004\n",
      "21 ..Done Time= 0.018363237380981445\n",
      "22 ..Done Time= 0.018935680389404297\n",
      "23 ..Done Time= 0.021384239196777344\n",
      "24 ..Done Time= 0.018544435501098633\n",
      "25 ..Done Time= 0.018505096435546875\n",
      "26 ..Done Time= 0.018406391143798828\n",
      "27 ..Done Time= 0.018636465072631836\n",
      "28 ..Done Time= 0.020024776458740234\n",
      "29 ..Done Time= 0.020817995071411133\n",
      "30 ..Done Time= 0.018520355224609375\n",
      "31 ..Done Time= 0.018384933471679688\n",
      "32 ..Done Time= 0.018375158309936523\n",
      "33 ..Done Time= 0.020433902740478516\n",
      "34 ..Done Time= 0.018546581268310547\n",
      "35 ..Done Time= 0.018291711807250977\n",
      "36 ..Done Time= 0.01828789710998535\n"
     ]
    }
   ],
   "source": [
    "prediction_LR=[]\n",
    "for i in range(37):\n",
    "    start=time.time()\n",
    "    clf = LinearRegression().fit(train_features,np.array(df.iloc[:,i+1])[0:7000] )\n",
    "    file_name=\"C\"+str(i+1)+\"_linear.pkl\"\n",
    "    joblib.dump(clf, file_name) \n",
    "    y_predict=clf.predict(test_features)\n",
    "    end=time.time()\n",
    "    prediction_LR.append(y_predict)  \n",
    "    print(i,\"..Done\",\"Time=\",end-start)\n",
    "    #rmse=mean_squared_error(y_true, y_predict)"
   ]
  },
  {
   "cell_type": "code",
   "execution_count": 23,
   "metadata": {},
   "outputs": [
    {
     "name": "stderr",
     "output_type": "stream",
     "text": [
      "/home/drago/anaconda3/lib/python3.6/site-packages/sklearn/linear_model/coordinate_descent.py:491: ConvergenceWarning: Objective did not converge. You might want to increase the number of iterations. Fitting data with very small alpha may cause precision problems.\n",
      "  ConvergenceWarning)\n"
     ]
    },
    {
     "name": "stdout",
     "output_type": "stream",
     "text": [
      "0 ..Done Time= 0.3173515796661377\n",
      "1 ..Done Time= 0.19277524948120117\n",
      "2 ..Done Time= 0.20586585998535156\n",
      "3 ..Done Time= 0.19301390647888184\n",
      "4 ..Done Time= 0.19427776336669922\n",
      "5 ..Done Time= 0.19423222541809082\n",
      "6 ..Done Time= 0.1974177360534668\n",
      "7 ..Done Time= 0.20645904541015625\n",
      "8 ..Done Time= 0.23174428939819336\n",
      "9 ..Done Time= 0.19003987312316895\n",
      "10 ..Done Time= 0.19237828254699707\n",
      "11 ..Done Time= 0.18903255462646484\n",
      "12 ..Done Time= 0.1987905502319336\n",
      "13 ..Done Time= 0.21511030197143555\n",
      "14 ..Done Time= 0.21270251274108887\n",
      "15 ..Done Time= 0.19068670272827148\n",
      "16 ..Done Time= 0.1913309097290039\n",
      "17 ..Done Time= 0.19533920288085938\n",
      "18 ..Done Time= 0.19501590728759766\n",
      "19 ..Done Time= 0.19021391868591309\n",
      "20 ..Done Time= 0.18558168411254883\n",
      "21 ..Done Time= 0.19098234176635742\n",
      "22 ..Done Time= 0.239501953125\n",
      "23 ..Done Time= 0.19633841514587402\n",
      "24 ..Done Time= 0.1884002685546875\n",
      "25 ..Done Time= 0.19516229629516602\n",
      "26 ..Done Time= 0.19835615158081055\n",
      "27 ..Done Time= 0.19565510749816895\n",
      "28 ..Done Time= 0.19808077812194824\n",
      "29 ..Done Time= 0.1977694034576416\n",
      "30 ..Done Time= 0.20860862731933594\n",
      "31 ..Done Time= 0.19337868690490723\n",
      "32 ..Done Time= 0.19870591163635254\n",
      "33 ..Done Time= 0.19342303276062012\n",
      "34 ..Done Time= 0.19578170776367188\n",
      "35 ..Done Time= 0.19305157661437988\n",
      "36 ..Done Time= 0.1965198516845703\n"
     ]
    }
   ],
   "source": [
    "prediction_LoR=[]\n",
    "for i in range(37):\n",
    "    start=time.time()\n",
    "    clf = Lasso().fit(train_features,np.array(df.iloc[:,i+1])[0:7000] )\n",
    "    file_name=\"C\"+str(i+1)+\"_lasso\"+\".pkl\"\n",
    "    joblib.dump(clf, file_name) \n",
    "    y_predict=clf.predict(test_features)\n",
    "    end=time.time()\n",
    "    prediction_LoR.append(y_predict)  \n",
    "    print(i,\"..Done\",\"Time=\",end-start)\n",
    "    #rmse=mean_squared_error(y_true, y_predict)"
   ]
  },
  {
   "cell_type": "code",
   "execution_count": 24,
   "metadata": {},
   "outputs": [
    {
     "name": "stdout",
     "output_type": "stream",
     "text": [
      "0 ..Done Time= 0.14567875862121582\n",
      "1 ..Done Time= 0.0160214900970459\n",
      "2 ..Done Time= 0.016055822372436523\n"
     ]
    },
    {
     "name": "stderr",
     "output_type": "stream",
     "text": [
      "/home/drago/anaconda3/lib/python3.6/site-packages/sklearn/linear_model/ridge.py:112: LinAlgWarning: scipy.linalg.solve\n",
      "Ill-conditioned matrix detected. Result is not guaranteed to be accurate.\n",
      "Reciprocal condition number4.724534e-24\n",
      "  overwrite_a=True).T\n"
     ]
    },
    {
     "name": "stdout",
     "output_type": "stream",
     "text": [
      "3 ..Done Time= 0.016497135162353516\n",
      "4 ..Done Time= 0.019107818603515625\n",
      "5 ..Done Time= 0.017565250396728516\n",
      "6 ..Done Time= 0.016515493392944336\n",
      "7 ..Done Time= 0.016100406646728516\n",
      "8 ..Done Time= 0.01607799530029297\n",
      "9 ..Done Time= 0.015917539596557617\n",
      "10 ..Done Time= 0.016052722930908203\n",
      "11 ..Done Time= 0.015923738479614258\n",
      "12 ..Done Time= 0.016545534133911133\n",
      "13 ..Done Time= 0.018970727920532227\n",
      "14 ..Done Time= 0.01636672019958496\n",
      "15 ..Done Time= 0.016350746154785156\n",
      "16 ..Done Time= 0.021818161010742188\n",
      "17 ..Done Time= 0.028163433074951172\n",
      "18 ..Done Time= 0.027989625930786133\n",
      "19 ..Done Time= 0.028108596801757812\n",
      "20 ..Done Time= 0.028075695037841797\n",
      "21 ..Done Time= 0.028007984161376953\n",
      "22 ..Done Time= 0.028678178787231445\n",
      "23 ..Done Time= 0.028197526931762695\n",
      "24 ..Done Time= 0.0286252498626709\n",
      "25 ..Done Time= 0.028269529342651367\n",
      "26 ..Done Time= 0.02814316749572754\n",
      "27 ..Done Time= 0.027112245559692383\n",
      "28 ..Done Time= 0.01627182960510254\n",
      "29 ..Done Time= 0.016304731369018555\n",
      "30 ..Done Time= 0.01607799530029297\n",
      "31 ..Done Time= 0.01777172088623047\n",
      "32 ..Done Time= 0.016400814056396484\n",
      "33 ..Done Time= 0.016236543655395508\n",
      "34 ..Done Time= 0.016754865646362305\n",
      "35 ..Done Time= 0.02077960968017578\n",
      "36 ..Done Time= 0.016496896743774414\n"
     ]
    }
   ],
   "source": [
    "prediction_RR=[]\n",
    "for i in range(37):\n",
    "    start=time.time()\n",
    "    clf = Ridge().fit(train_features,np.array(df.iloc[:,i+1])[0:7000] )\n",
    "    file_name=\"C\"+str(i+1)+\"_ridge\"+\".pkl\"\n",
    "    joblib.dump(clf, file_name) \n",
    "    y_predict=clf.predict(test_features)\n",
    "    end=time.time()\n",
    "    prediction_RR.append(y_predict)  \n",
    "    print(i,\"..Done\",\"Time=\",end-start)\n",
    "    #rmse=mean_squared_error(y_true, y_predict)"
   ]
  },
  {
   "cell_type": "code",
   "execution_count": 31,
   "metadata": {},
   "outputs": [],
   "source": [
    "qwise_pred_LR=qwise_prediction(prediction_LR)\n",
    "qwise_mse_LR=rmse_calculation(Q_idx,qwise_pred_LR)\n",
    "qwise_pred_LoR=qwise_prediction(prediction_LoR)\n",
    "qwise_mse_LoR=rmse_calculation(Q_idx,qwise_pred_LoR)\n",
    "qwise_pred_RR=qwise_prediction(prediction_RR)\n",
    "qwise_mse_RR=rmse_calculation(Q_idx,qwise_pred_RR)"
   ]
  },
  {
   "cell_type": "code",
   "execution_count": 32,
   "metadata": {},
   "outputs": [
    {
     "name": "stdout",
     "output_type": "stream",
     "text": [
      "[0.07776083723227388, 0.1263842610156445, 0.12897466689267892, 0.13699003008404487, 0.042867747991619194, 0.0673558458805449, 0.07640211689492869, 0.018058049725884963, 0.0993104068450551, 0.08558603783620879, 0.0280181726188241]\n",
      "[0.07790185095326717, 0.126312639328812, 0.12881658247861874, 0.13695367719244475, 0.04285409465930696, 0.0676119633563631, 0.07634711707288645, 0.018062729626956285, 0.0993089036008359, 0.08548885858858302, 0.028004903863081767]\n",
      "[0.07776938508426824, 0.12638658271626604, 0.1289613362119226, 0.1370329458204284, 0.04287327000721812, 0.06732082913973665, 0.07640395506491522, 0.018048784895245782, 0.09931617326321802, 0.08555808407301935, 0.028005766459842752]\n"
     ]
    }
   ],
   "source": [
    "print(qwise_mse_LR)\n",
    "print(qwise_mse_LoR)\n",
    "print(qwise_mse_RR)"
   ]
  },
  {
   "cell_type": "code",
   "execution_count": 33,
   "metadata": {},
   "outputs": [
    {
     "data": {
      "image/png": "[encoded data removed]",
      "text/plain": [
       "<Figure size 432x288 with 1 Axes>"
      ]
     },
     "metadata": {},
     "output_type": "display_data"
    },
    {
     "data": {
      "image/png": "[encoded data removed]",
      "text/plain": [
       "<Figure size 432x288 with 1 Axes>"
      ]
     },
     "metadata": {},
     "output_type": "display_data"
    },
    {
     "data": {
      "image/png": "[encoded data removed]",
      "text/plain": [
       "<Figure size 432x288 with 1 Axes>"
      ]
     },
     "metadata": {},
     "output_type": "display_data"
    }
   ],
   "source": [
    "q=np.arange(11)\n",
    "plotGraph(q,qwise_mse_LR)\n",
    "plotGraph(q,qwise_mse_LoR)\n",
    "plotGraph(q,qwise_mse_RR)"
   ]
  },
  {
   "cell_type": "code",
   "execution_count": 34,
   "metadata": {},
   "outputs": [
    {
     "data": {
      "image/png": "[encoded data removed]",
      "text/plain": [
       "<Figure size 432x288 with 1 Axes>"
      ]
     },
     "metadata": {},
     "output_type": "display_data"
    }
   ],
   "source": [
    "plt.plot(q,qwise_mse_LR,marker='o')\n",
    "plt.plot(q,qwise_mse_LoR,marker='o')\n",
    "plt.plot(q,qwise_mse_RR,marker='o')\n",
    "plt.xlabel(\"Questions\")\n",
    "plt.ylabel(\"RMSE\")\n",
    "plt.legend([\"Linear\",\"Lasso\",\"Ridge\"])\n",
    "plt.title(\"Feature:Image Moment\")\n",
    "plt.show()"
   ]
  },
  {
   "cell_type": "code",
   "execution_count": null,
   "metadata": {},
   "outputs": [],
   "source": []
  }
 ],
 "metadata": {
  "kernelspec": {
   "display_name": "Python 3",
   "language": "python",
   "name": "python3"
  },
  "language_info": {
   "codemirror_mode": {
    "name": "ipython",
    "version": 3
   },
   "file_extension": ".py",
   "mimetype": "text/x-python",
   "name": "python",
   "nbconvert_exporter": "python",
   "pygments_lexer": "ipython3",
   "version": "3.6.5"
  }
 },
 "nbformat": 4,
 "nbformat_minor": 2
}
