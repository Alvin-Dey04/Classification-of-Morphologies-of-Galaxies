{
 "cells": [
  {
   "cell_type": "code",
   "execution_count": 4,
   "metadata": {},
   "outputs": [],
   "source": [
    "import numpy as np\n",
    "import cv2\n",
    "import os\n",
    "from skimage.feature import local_binary_pattern\n",
    "import copy\n",
    "from numpy.linalg import norm\n",
    "import matplotlib.pyplot as plt\n",
    "from sklearn.decomposition import PCA\n",
    "from sklearn.linear_model import Lasso\n",
    "from sklearn.linear_model import LinearRegression\n",
    "from collections import defaultdict\n",
    "from sklearn.metrics import mean_squared_error\n",
    "from sklearn.ensemble import RandomForestRegressor\n",
    "from sklearn.linear_model import Ridge\n",
    "from sklearn.model_selection import validation_curve\n",
    "from skimage.feature import hog\n",
    "import pandas as pd\n",
    "from sklearn.metrics import mean_squared_error\n",
    "from sklearn.externals import joblib \n",
    "import time"
   ]
  },
  {
   "cell_type": "code",
   "execution_count": 5,
   "metadata": {},
   "outputs": [],
   "source": [
    "def scrapeFile(file):\n",
    "    filepath = file\n",
    "    X={}\n",
    "    Y={}\n",
    "    with open(filepath) as fp:  \n",
    "        line = fp.readline()      \n",
    "        while line:\n",
    "            l=line.strip()\n",
    "            a=l.split(\",\")\n",
    "            temp=[]\n",
    "            for p in a[1:]:\n",
    "                temp.append(float(p))\n",
    "            X[int(a[0])]=temp\n",
    "            Y[int(a[0])]=np.argmax(temp)\n",
    "            line = fp.readline()\n",
    "    return X,Y"
   ]
  },
  {
   "cell_type": "code",
   "execution_count": 6,
   "metadata": {},
   "outputs": [],
   "source": [
    "def hog_f(image):\n",
    "    hist = hog(image,orientations=9,pixels_per_cell=(16,16),cells_per_block=(3,3))\n",
    "    temp=[]\n",
    "    for j in range(len(hist)):\n",
    "        temp.append(hist[j])\n",
    "    return temp"
   ]
  },
  {
   "cell_type": "code",
   "execution_count": 7,
   "metadata": {},
   "outputs": [],
   "source": [
    "def lbp_f(image):\n",
    "    lbp = local_binary_pattern(image,8,1,'uniform') \n",
    "    lbp_hist = np.histogram(lbp, bins=np.arange(257), density=True)[0]\n",
    "    return list(lbp_hist)"
   ]
  },
  {
   "cell_type": "code",
   "execution_count": 8,
   "metadata": {},
   "outputs": [],
   "source": [
    "def color_lbp_f(image):\n",
    "    R=image[:,:,2]\n",
    "    G=image[:,:,1]\n",
    "    B=image[:,:,0]    \n",
    "    lbp_r = local_binary_pattern(R,8,1,'uniform')\n",
    "    lbp_g = local_binary_pattern(G,8,1,'uniform')\n",
    "    lbp_b = local_binary_pattern(B,8,1,'uniform') \n",
    "    l_r = np.histogram(lbp_r, bins=np.arange(257), density=True)[0]\n",
    "    l_g = np.histogram(lbp_g, bins=np.arange(257), density=True)[0]\n",
    "    l_b = np.histogram(lbp_b, bins=np.arange(257), density=True)[0] \n",
    "    return list(l_b)+list(l_g)+list(l_r)"
   ]
  },
  {
   "cell_type": "code",
   "execution_count": 9,
   "metadata": {},
   "outputs": [],
   "source": [
    "def color_hog_f(image):\n",
    "    R=image[:,:,2]\n",
    "    G=image[:,:,1]\n",
    "    B=image[:,:,0]\n",
    "    hist_R =hog(R,orientations=9,pixels_per_cell=(16,16),cells_per_block=(3,3))\n",
    "    hist_G=hog(G,orientations=9,pixels_per_cell=(16,16),cells_per_block=(3,3))\n",
    "    hist_B=hog(B,orientations=9,pixels_per_cell=(16,16),cells_per_block=(3,3))\n",
    "    temp1=[]\n",
    "    temp2=[]\n",
    "    temp3=[]\n",
    "    for j in range(len(hist_R)):\n",
    "        temp1.append(hist_R[j])\n",
    "        temp2.append(hist_G[j])\n",
    "        temp3.append(hist_B[j])\n",
    "    return temp3+temp2+temp1"
   ]
  },
  {
   "cell_type": "code",
   "execution_count": 10,
   "metadata": {},
   "outputs": [],
   "source": [
    "###########################PCA############################\n",
    "def pca_feature(X):\n",
    "    pca=PCA(n_components=0.99)\n",
    "    pca.fit(X)\n",
    "    newX=(pca.transform(X))\n",
    "    return list(newX)"
   ]
  },
  {
   "cell_type": "code",
   "execution_count": 11,
   "metadata": {},
   "outputs": [],
   "source": [
    "###################MOMENTS FEATURE#########################\n",
    "def image_moment_feature(image):\n",
    "    ret,thresh = cv2.threshold(image,80,255,0)\n",
    "    im2,contours,hierarchy = cv2.findContours(thresh, 1, 2)\n",
    "    #print(np.shape(contours))\n",
    "    cnt = contours[0]\n",
    "    M = cv2.moments(cnt)\n",
    "    f=[]\n",
    "    for k in M:\n",
    "        f.append(M[k])\n",
    "    return list(f)"
   ]
  },
  {
   "cell_type": "code",
   "execution_count": 12,
   "metadata": {},
   "outputs": [],
   "source": [
    "def feature_extraction(img,gray):\n",
    "    featureset=[]\n",
    "    featureset+=lbp_f(gray)\n",
    "    #featureset+=image_moment_feature(img)\n",
    "    #featureset+=hog_f(gray)\n",
    "    return featureset"
   ]
  },
  {
   "cell_type": "code",
   "execution_count": 33,
   "metadata": {},
   "outputs": [],
   "source": [
    "def qwise_prediction(prediction):\n",
    "    prediction=np.array(prediction)\n",
    "    prediction=prediction.T\n",
    "    Q1_pred=normalize(prediction[:,0:3])\n",
    "    Q2_pred=normalize(prediction[:, 3:5])\n",
    "    Q3_pred=normalize(prediction[:, 5:7])\n",
    "    Q4_pred=normalize(prediction[:, 7:9])\n",
    "    Q5_pred=normalize(prediction[:, 9:13])\n",
    "    Q6_pred=normalize(prediction[:, 13:15])\n",
    "    Q7_pred=normalize(prediction[:, 15:18])\n",
    "    Q8_pred=normalize(prediction[:, 18:25])\n",
    "    Q9_pred=normalize(prediction[:, 25:28])\n",
    "    Q10_pred=normalize(prediction[:, 28:31])\n",
    "    Q11_pred=normalize(prediction[:, 31:37])\n",
    "    result=[Q1_pred,Q2_pred,Q3_pred,Q4_pred,Q5_pred,Q6_pred,Q7_pred,Q8_pred,Q9_pred,Q10_pred,Q11_pred]\n",
    "    return result\n"
   ]
  },
  {
   "cell_type": "code",
   "execution_count": 25,
   "metadata": {},
   "outputs": [],
   "source": [
    "def rmse_calculation(y_true,prediction):\n",
    "    mse=[]\n",
    "    for i in range(11):\n",
    "        y=np.array(y_true[i].iloc[7000:10000])\n",
    "        mse.append(mean_squared_error(y,prediction[i]))\n",
    "    return mse"
   ]
  },
  {
   "cell_type": "code",
   "execution_count": 26,
   "metadata": {},
   "outputs": [],
   "source": [
    "def plotGraph(x,y):\n",
    "    plt.bar(x,y)\n",
    "    plt.xlabel(\"Question\")\n",
    "    plt.ylabel(\"RMSE\")\n",
    "    plt.show()"
   ]
  },
  {
   "cell_type": "code",
   "execution_count": 39,
   "metadata": {},
   "outputs": [],
   "source": [
    "def normalize(zl):\n",
    "    e_x = np.exp(zl - np.max(zl))\n",
    "    gz=e_x / e_x.sum()\n",
    "    y=gz/gz.sum(axis=1)[:,None]\n",
    "    return y"
   ]
  },
  {
   "cell_type": "code",
   "execution_count": 13,
   "metadata": {},
   "outputs": [],
   "source": [
    "df=pd.read_csv(\"training_solutions_rev1.csv\")\n",
    "y=[\"GalaxyID\"]\n",
    "for x in df.columns[1:]:\n",
    "    y.append(x[-1])\n",
    "df.columns=y"
   ]
  },
  {
   "cell_type": "code",
   "execution_count": 28,
   "metadata": {},
   "outputs": [],
   "source": [
    "#Separation of questions\n",
    "Q1=df.iloc[:, 1:4]\n",
    "q1=pd.concat([df[\"GalaxyID\"].to_frame(),Q1],axis=1)\n",
    "Q2=df.iloc[:, 4:6]\n",
    "q2=pd.concat([df[\"GalaxyID\"].to_frame(),Q1],axis=1)\n",
    "Q3=df.iloc[:, 6:8]\n",
    "q3=pd.concat([df[\"GalaxyID\"].to_frame(),Q1],axis=1)\n",
    "Q4=df.iloc[:, 8:10]\n",
    "q4=pd.concat([df[\"GalaxyID\"].to_frame(),Q1],axis=1)\n",
    "Q5=df.iloc[:, 10:14]\n",
    "q5=pd.concat([df[\"GalaxyID\"].to_frame(),Q1],axis=1)\n",
    "Q6=df.iloc[:, 14:16]\n",
    "q6=pd.concat([df[\"GalaxyID\"].to_frame(),Q1],axis=1)\n",
    "Q7=df.iloc[:, 16:19]\n",
    "q7=pd.concat([df[\"GalaxyID\"].to_frame(),Q1],axis=1)\n",
    "Q8=df.iloc[:, 19:26]\n",
    "q8=pd.concat([df[\"GalaxyID\"].to_frame(),Q1],axis=1)\n",
    "Q9=df.iloc[:, 26:29]\n",
    "q9=pd.concat([df[\"GalaxyID\"].to_frame(),Q1],axis=1)\n",
    "Q10=df.iloc[:, 29:32]\n",
    "q10=pd.concat([df[\"GalaxyID\"].to_frame(),Q1],axis=1)\n",
    "Q11=df.iloc[:, 32:38]\n",
    "q11=pd.concat([df[\"GalaxyID\"].to_frame(),Q1],axis=1)\n",
    "Q_idx=[Q1,Q2,Q3,Q4,Q5,Q6,Q7,Q8,Q9,Q10,Q11]"
   ]
  },
  {
   "cell_type": "code",
   "execution_count": 15,
   "metadata": {},
   "outputs": [],
   "source": [
    "train_ids=np.array(q1[\"GalaxyID\"])[0:7000]\n",
    "test_ids=np.array(q1[\"GalaxyID\"])[7000:10000]"
   ]
  },
  {
   "cell_type": "code",
   "execution_count": 16,
   "metadata": {},
   "outputs": [],
   "source": [
    "X,Y=scrapeFile(\"training_solutions\")\n"
   ]
  },
  {
   "cell_type": "code",
   "execution_count": 17,
   "metadata": {},
   "outputs": [
    {
     "name": "stdout",
     "output_type": "stream",
     "text": [
      "0 ..Done\n",
      "1000 ..Done\n",
      "2000 ..Done\n",
      "3000 ..Done\n",
      "4000 ..Done\n",
      "5000 ..Done\n",
      "6000 ..Done\n"
     ]
    }
   ],
   "source": [
    "train_features=[]\n",
    "datapath=\"images_training_rev1/\"\n",
    "train_features=[]\n",
    "for i in range(7000):\n",
    "    path=\"images_training_rev1/\"+str(train_ids[i])+\".jpg\"\n",
    "    image=cv2.imread(path)\n",
    "    gray=cv2.imread(path,0)\n",
    "    crop1 = image[108:108+207, 108:108+207]\n",
    "    crop2 = gray[108:108+207, 108:108+207]\n",
    "    feature=feature_extraction(crop1,crop2)\n",
    "    train_features.append(feature)\n",
    "    if i%1000==0:\n",
    "        print(i,\"..Done\")"
   ]
  },
  {
   "cell_type": "code",
   "execution_count": 23,
   "metadata": {},
   "outputs": [
    {
     "data": {
      "text/plain": [
       "256"
      ]
     },
     "execution_count": 23,
     "metadata": {},
     "output_type": "execute_result"
    }
   ],
   "source": [
    "len(train_features[0])"
   ]
  },
  {
   "cell_type": "code",
   "execution_count": 18,
   "metadata": {},
   "outputs": [
    {
     "name": "stdout",
     "output_type": "stream",
     "text": [
      "0 ..Done\n",
      "1000 ..Done\n",
      "2000 ..Done\n"
     ]
    }
   ],
   "source": [
    "test_features=[]\n",
    "for i in range(3000):\n",
    "    path=\"images_training_rev1/\"+str(test_ids[i])+\".jpg\"\n",
    "    image=cv2.imread(path)\n",
    "    gray=cv2.imread(path,0)\n",
    "    crop1 = image[108:108+207, 108:108+207]\n",
    "    crop2 = gray[108:108+207, 108:108+207]\n",
    "    feature=feature_extraction(crop1,crop2)\n",
    "    test_features.append(feature)\n",
    "    if i%1000==0:\n",
    "        print(i,\"..Done\")"
   ]
  },
  {
   "cell_type": "code",
   "execution_count": 19,
   "metadata": {},
   "outputs": [
    {
     "name": "stdout",
     "output_type": "stream",
     "text": [
      "1000 ..Done\n",
      "2000 ..Done\n",
      "3000 ..Done\n",
      "4000 ..Done\n",
      "5000 ..Done\n",
      "6000 ..Done\n",
      "7000 ..Done\n",
      "8000 ..Done\n",
      "9000 ..Done\n",
      "10000 ..Done\n"
     ]
    }
   ],
   "source": [
    "datapath=\"images_training_rev1/\"\n",
    "files_list = sorted(os.listdir(datapath))\n",
    "dataset=[]\n",
    "datalabel=[]\n",
    "category=defaultdict(list)\n",
    "featureset=[]\n",
    "idx=0\n",
    "for file in files_list[0:10000]:\n",
    "    id1=int(file[:-4])\n",
    "    datalabel.append(X[id1])\n",
    "    for i in range(37):\n",
    "        category[i].append(X[id1][i])\n",
    "    idx+=1\n",
    "    if idx%1000==0:\n",
    "        print(idx,\"..Done\")\n",
    "    \n"
   ]
  },
  {
   "cell_type": "code",
   "execution_count": 20,
   "metadata": {},
   "outputs": [
    {
     "name": "stdout",
     "output_type": "stream",
     "text": [
      "0 ..Done Time= 0.6241614818572998\n",
      "1 ..Done Time= 0.47359752655029297\n",
      "2 ..Done Time= 0.4698827266693115\n",
      "3 ..Done Time= 0.5438206195831299\n",
      "4 ..Done Time= 0.5468401908874512\n",
      "5 ..Done Time= 0.47074198722839355\n",
      "6 ..Done Time= 0.4702723026275635\n",
      "7 ..Done Time= 0.46802496910095215\n",
      "8 ..Done Time= 0.4688847064971924\n",
      "9 ..Done Time= 0.6983914375305176\n",
      "10 ..Done Time= 0.5138278007507324\n",
      "11 ..Done Time= 0.5540218353271484\n",
      "12 ..Done Time= 0.4624781608581543\n",
      "13 ..Done Time= 0.5500118732452393\n",
      "14 ..Done Time= 0.4777219295501709\n",
      "15 ..Done Time= 0.4914357662200928\n",
      "16 ..Done Time= 0.4831843376159668\n",
      "17 ..Done Time= 0.4735734462738037\n",
      "18 ..Done Time= 0.4762134552001953\n",
      "19 ..Done Time= 0.481858491897583\n",
      "20 ..Done Time= 0.5733852386474609\n",
      "21 ..Done Time= 0.563129186630249\n",
      "22 ..Done Time= 0.44040894508361816\n",
      "23 ..Done Time= 0.4455246925354004\n",
      "24 ..Done Time= 0.4902968406677246\n",
      "25 ..Done Time= 0.47946667671203613\n",
      "26 ..Done Time= 0.4442024230957031\n",
      "27 ..Done Time= 0.45574951171875\n",
      "28 ..Done Time= 0.4445648193359375\n",
      "29 ..Done Time= 0.44157886505126953\n",
      "30 ..Done Time= 0.4446570873260498\n",
      "31 ..Done Time= 0.44574880599975586\n",
      "32 ..Done Time= 0.650355339050293\n",
      "33 ..Done Time= 0.48604345321655273\n",
      "34 ..Done Time= 0.4850127696990967\n",
      "35 ..Done Time= 0.4625825881958008\n",
      "36 ..Done Time= 0.4567415714263916\n"
     ]
    }
   ],
   "source": [
    "prediction_LR=[]\n",
    "for i in range(37):\n",
    "    start=time.time()\n",
    "    clf = LinearRegression().fit(train_features,np.array(df.iloc[:,i+1])[0:7000] )\n",
    "    file_name=\"C\"+str(i+1)+\"_linear.pkl\"\n",
    "    joblib.dump(clf, file_name) \n",
    "    y_predict=clf.predict(test_features)\n",
    "    end=time.time()\n",
    "    prediction_LR.append(y_predict)  \n",
    "    print(i,\"..Done\",\"Time=\",end-start)\n",
    "    #rmse=mean_squared_error(y_true, y_predict)"
   ]
  },
  {
   "cell_type": "code",
   "execution_count": 21,
   "metadata": {},
   "outputs": [
    {
     "name": "stdout",
     "output_type": "stream",
     "text": [
      "0 ..Done Time= 0.3842930793762207\n",
      "1 ..Done Time= 0.33468127250671387\n",
      "2 ..Done Time= 0.32672929763793945\n",
      "3 ..Done Time= 0.3365809917449951\n",
      "4 ..Done Time= 0.40340709686279297\n",
      "5 ..Done Time= 0.3275625705718994\n",
      "6 ..Done Time= 0.326552152633667\n",
      "7 ..Done Time= 0.3322911262512207\n",
      "8 ..Done Time= 0.3291447162628174\n",
      "9 ..Done Time= 0.3288094997406006\n",
      "10 ..Done Time= 0.3263850212097168\n",
      "11 ..Done Time= 0.33205103874206543\n",
      "12 ..Done Time= 0.3243703842163086\n",
      "13 ..Done Time= 0.330352783203125\n",
      "14 ..Done Time= 0.33321332931518555\n",
      "15 ..Done Time= 0.3304629325866699\n",
      "16 ..Done Time= 0.3270082473754883\n",
      "17 ..Done Time= 0.33354711532592773\n",
      "18 ..Done Time= 0.32762956619262695\n",
      "19 ..Done Time= 0.33464837074279785\n",
      "20 ..Done Time= 0.32938647270202637\n",
      "21 ..Done Time= 0.42002201080322266\n",
      "22 ..Done Time= 0.347916841506958\n",
      "23 ..Done Time= 0.33408522605895996\n",
      "24 ..Done Time= 0.3248865604400635\n",
      "25 ..Done Time= 0.32566046714782715\n",
      "26 ..Done Time= 0.33245372772216797\n",
      "27 ..Done Time= 0.32498908042907715\n",
      "28 ..Done Time= 0.3282148838043213\n",
      "29 ..Done Time= 0.3832550048828125\n",
      "30 ..Done Time= 0.407761812210083\n",
      "31 ..Done Time= 0.3499484062194824\n",
      "32 ..Done Time= 0.3605821132659912\n",
      "33 ..Done Time= 0.3551468849182129\n",
      "34 ..Done Time= 0.3560633659362793\n",
      "35 ..Done Time= 0.3645050525665283\n",
      "36 ..Done Time= 0.365955114364624\n"
     ]
    }
   ],
   "source": [
    "prediction_LoR=[]\n",
    "for i in range(37):\n",
    "    start=time.time()\n",
    "    clf = Lasso().fit(train_features,np.array(df.iloc[:,i+1])[0:7000] )\n",
    "    file_name=\"C\"+str(i+1)+\"_lasso\"+\".pkl\"\n",
    "    joblib.dump(clf, file_name) \n",
    "    y_predict=clf.predict(test_features)\n",
    "    end=time.time()\n",
    "    prediction_LoR.append(y_predict)  \n",
    "    print(i,\"..Done\",\"Time=\",end-start)\n",
    "    #rmse=mean_squared_error(y_true, y_predict)"
   ]
  },
  {
   "cell_type": "code",
   "execution_count": 22,
   "metadata": {},
   "outputs": [
    {
     "name": "stdout",
     "output_type": "stream",
     "text": [
      "0 ..Done Time= 0.36861681938171387\n",
      "1 ..Done Time= 0.36380648612976074\n",
      "2 ..Done Time= 0.368915319442749\n",
      "3 ..Done Time= 0.36637139320373535\n",
      "4 ..Done Time= 0.36777615547180176\n",
      "5 ..Done Time= 0.37180376052856445\n",
      "6 ..Done Time= 0.3763871192932129\n",
      "7 ..Done Time= 0.37778711318969727\n",
      "8 ..Done Time= 0.38069701194763184\n",
      "9 ..Done Time= 0.36947059631347656\n",
      "10 ..Done Time= 0.371814489364624\n",
      "11 ..Done Time= 0.3695998191833496\n",
      "12 ..Done Time= 0.3595998287200928\n",
      "13 ..Done Time= 0.3629188537597656\n",
      "14 ..Done Time= 0.36406421661376953\n",
      "15 ..Done Time= 0.33461451530456543\n",
      "16 ..Done Time= 0.3402831554412842\n",
      "17 ..Done Time= 0.3637962341308594\n",
      "18 ..Done Time= 0.3371238708496094\n",
      "19 ..Done Time= 0.33535051345825195\n",
      "20 ..Done Time= 0.3406105041503906\n",
      "21 ..Done Time= 0.3417038917541504\n",
      "22 ..Done Time= 0.3587765693664551\n",
      "23 ..Done Time= 0.3605160713195801\n",
      "24 ..Done Time= 0.3643651008605957\n",
      "25 ..Done Time= 0.3613321781158447\n",
      "26 ..Done Time= 0.3579556941986084\n",
      "27 ..Done Time= 0.3644711971282959\n",
      "28 ..Done Time= 0.35277533531188965\n",
      "29 ..Done Time= 0.3454453945159912\n",
      "30 ..Done Time= 0.362720251083374\n",
      "31 ..Done Time= 0.3462178707122803\n",
      "32 ..Done Time= 0.3439652919769287\n",
      "33 ..Done Time= 0.35745787620544434\n",
      "34 ..Done Time= 0.36571788787841797\n",
      "35 ..Done Time= 0.3679220676422119\n",
      "36 ..Done Time= 0.3616936206817627\n"
     ]
    }
   ],
   "source": [
    "prediction_RR=[]\n",
    "for i in range(37):\n",
    "    start=time.time()\n",
    "    clf = Ridge().fit(train_features,np.array(df.iloc[:,i+1])[0:7000] )\n",
    "    file_name=\"C\"+str(i+1)+\"_ridge\"+\".pkl\"\n",
    "    joblib.dump(clf, file_name) \n",
    "    y_predict=clf.predict(test_features)\n",
    "    end=time.time()\n",
    "    prediction_RR.append(y_predict)  \n",
    "    print(i,\"..Done\",\"Time=\",end-start)\n",
    "    #rmse=mean_squared_error(y_true, y_predict)"
   ]
  },
  {
   "cell_type": "code",
   "execution_count": 40,
   "metadata": {},
   "outputs": [],
   "source": [
    "qwise_pred_LR=qwise_prediction(prediction_LR)\n",
    "qwise_mse_LR=rmse_calculation(Q_idx,qwise_pred_LR)\n",
    "qwise_pred_LoR=qwise_prediction(prediction_LoR)\n",
    "qwise_mse_LoR=rmse_calculation(Q_idx,qwise_pred_LoR)\n",
    "qwise_pred_RR=qwise_prediction(prediction_RR)\n",
    "qwise_mse_RR=rmse_calculation(Q_idx,qwise_pred_RR)"
   ]
  },
  {
   "cell_type": "code",
   "execution_count": 41,
   "metadata": {},
   "outputs": [
    {
     "name": "stdout",
     "output_type": "stream",
     "text": [
      "[0.07196763179096223, 0.1248387048525248, 0.128631667306605, 0.1357577621336917, 0.042593155973258474, 0.06819268814385024, 0.07507782316242746, 0.018042617159707886, 0.09914381559068676, 0.0854349443800745, 0.027960121141596978]\n",
      "[0.07879490190612377, 0.1264636737479915, 0.12883303199479917, 0.13728021615288194, 0.042909335581535354, 0.06872239312948386, 0.0764688760838494, 0.018083135932463072, 0.0993138244747339, 0.0854839350029745, 0.028016165016722838]\n",
      "[0.07359150825262811, 0.12591527552246098, 0.12871988631964845, 0.13601939589485437, 0.042688396228247265, 0.06842257661904566, 0.07555021226393094, 0.01805424096354191, 0.09922606706879357, 0.08544783789696835, 0.027975909989862286]\n"
     ]
    }
   ],
   "source": [
    "print(qwise_mse_LR)\n",
    "print(qwise_mse_LoR)\n",
    "print(qwise_mse_RR)"
   ]
  },
  {
   "cell_type": "code",
   "execution_count": 42,
   "metadata": {},
   "outputs": [
    {
     "data": {
      "image/png": "[encoded data removed]",
      "text/plain": [
       "<Figure size 432x288 with 1 Axes>"
      ]
     },
     "metadata": {},
     "output_type": "display_data"
    },
    {
     "data": {
      "image/png": "[encoded data removed]",
      "text/plain": [
       "<Figure size 432x288 with 1 Axes>"
      ]
     },
     "metadata": {},
     "output_type": "display_data"
    },
    {
     "data": {
      "image/png": "[encoded data removed]",
      "text/plain": [
       "<Figure size 432x288 with 1 Axes>"
      ]
     },
     "metadata": {},
     "output_type": "display_data"
    }
   ],
   "source": [
    "q=np.arange(11)\n",
    "plotGraph(q,qwise_mse_LR)\n",
    "plotGraph(q,qwise_mse_LoR)\n",
    "plotGraph(q,qwise_mse_RR)"
   ]
  },
  {
   "cell_type": "code",
   "execution_count": 43,
   "metadata": {},
   "outputs": [
    {
     "data": {
      "image/png": "[encoded data removed]",
      "text/plain": [
       "<Figure size 432x288 with 1 Axes>"
      ]
     },
     "metadata": {},
     "output_type": "display_data"
    }
   ],
   "source": [
    "plt.plot(q,qwise_mse_LR,marker='o')\n",
    "plt.plot(q,qwise_mse_LoR,marker='o')\n",
    "plt.plot(q,qwise_mse_RR,marker='o')\n",
    "plt.xlabel(\"Questions\")\n",
    "plt.ylabel(\"RMSE\")\n",
    "plt.legend([\"Linear\",\"Lasso\",\"Ridge\"])\n",
    "plt.title(\"Feature:LBP\")\n",
    "plt.show()"
   ]
  },
  {
   "cell_type": "code",
   "execution_count": null,
   "metadata": {},
   "outputs": [],
   "source": []
  }
 ],
 "metadata": {
  "kernelspec": {
   "display_name": "Python 3",
   "language": "python",
   "name": "python3"
  },
  "language_info": {
   "codemirror_mode": {
    "name": "ipython",
    "version": 3
   },
   "file_extension": ".py",
   "mimetype": "text/x-python",
   "name": "python",
   "nbconvert_exporter": "python",
   "pygments_lexer": "ipython3",
   "version": "3.6.5"
  }
 },
 "nbformat": 4,
 "nbformat_minor": 2
}
