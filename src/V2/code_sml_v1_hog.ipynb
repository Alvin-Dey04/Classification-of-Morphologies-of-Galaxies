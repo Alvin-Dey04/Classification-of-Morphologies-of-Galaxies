{
 "cells": [
  {
   "cell_type": "code",
   "execution_count": 14,
   "metadata": {},
   "outputs": [],
   "source": [
    "import numpy as np\n",
    "import cv2\n",
    "import os\n",
    "from skimage.feature import local_binary_pattern\n",
    "import copy\n",
    "from numpy.linalg import norm\n",
    "import matplotlib.pyplot as plt\n",
    "from sklearn.decomposition import PCA\n",
    "from sklearn.linear_model import Lasso\n",
    "from sklearn.linear_model import LinearRegression\n",
    "from collections import defaultdict\n",
    "from sklearn.metrics import mean_squared_error\n",
    "from sklearn.ensemble import RandomForestRegressor\n",
    "from sklearn.linear_model import Ridge\n",
    "from sklearn.model_selection import validation_curve\n",
    "from skimage.feature import hog\n",
    "import pandas as pd\n",
    "from sklearn.metrics import mean_squared_error\n",
    "from sklearn.externals import joblib \n",
    "import time"
   ]
  },
  {
   "cell_type": "code",
   "execution_count": 15,
   "metadata": {},
   "outputs": [],
   "source": [
    "def scrapeFile(file):\n",
    "    filepath = file\n",
    "    X={}\n",
    "    Y={}\n",
    "    with open(filepath) as fp:  \n",
    "        line = fp.readline()      \n",
    "        while line:\n",
    "            l=line.strip()\n",
    "            a=l.split(\",\")\n",
    "            temp=[]\n",
    "            for p in a[1:]:\n",
    "                temp.append(float(p))\n",
    "            X[int(a[0])]=temp\n",
    "            Y[int(a[0])]=np.argmax(temp)\n",
    "            line = fp.readline()\n",
    "    return X,Y"
   ]
  },
  {
   "cell_type": "code",
   "execution_count": 16,
   "metadata": {},
   "outputs": [],
   "source": [
    "def hog_f(image):\n",
    "    hist = hog(image,orientations=9,pixels_per_cell=(16,16),cells_per_block=(3,3))\n",
    "    temp=[]\n",
    "    for j in range(len(hist)):\n",
    "        temp.append(hist[j])\n",
    "    return temp"
   ]
  },
  {
   "cell_type": "code",
   "execution_count": 17,
   "metadata": {},
   "outputs": [],
   "source": [
    "def color_lbp_f(image):\n",
    "    R=image[:,:,2]\n",
    "    G=image[:,:,1]\n",
    "    B=image[:,:,0]    \n",
    "    lbp_r = local_binary_pattern(R,8,1,'uniform')\n",
    "    lbp_g = local_binary_pattern(G,8,1,'uniform')\n",
    "    lbp_b = local_binary_pattern(B,8,1,'uniform') \n",
    "    l_r = np.histogram(lbp_r, bins=np.arange(257), density=True)[0]\n",
    "    l_g = np.histogram(lbp_g, bins=np.arange(257), density=True)[0]\n",
    "    l_b = np.histogram(lbp_b, bins=np.arange(257), density=True)[0] \n",
    "    return list(l_b)+list(l_g)+list(l_r)"
   ]
  },
  {
   "cell_type": "code",
   "execution_count": 18,
   "metadata": {},
   "outputs": [],
   "source": [
    "def color_hog_f(image):\n",
    "    R=image[:,:,2]\n",
    "    G=image[:,:,1]\n",
    "    B=image[:,:,0]\n",
    "    hist_R =hog(R,orientations=9,pixels_per_cell=(16,16),cells_per_block=(3,3))\n",
    "    hist_G=hog(G,orientations=9,pixels_per_cell=(16,16),cells_per_block=(3,3))\n",
    "    hist_B=hog(B,orientations=9,pixels_per_cell=(16,16),cells_per_block=(3,3))\n",
    "    temp1=[]\n",
    "    temp2=[]\n",
    "    temp3=[]\n",
    "    for j in range(len(hist_R)):\n",
    "        temp1.append(hist_R[j])\n",
    "        temp2.append(hist_G[j])\n",
    "        temp3.append(hist_B[j])\n",
    "    return temp3+temp2+temp1"
   ]
  },
  {
   "cell_type": "code",
   "execution_count": 19,
   "metadata": {},
   "outputs": [],
   "source": [
    "###########################PCA############################\n",
    "def pca_feature(X):\n",
    "    pca=PCA(n_components=0.99)\n",
    "    pca.fit(X)\n",
    "    newX=(pca.transform(X))\n",
    "    return list(newX)"
   ]
  },
  {
   "cell_type": "code",
   "execution_count": 20,
   "metadata": {},
   "outputs": [],
   "source": [
    "###################MOMENTS FEATURE#########################\n",
    "def image_moment_feature(image):\n",
    "    ret,thresh = cv2.threshold(image,80,255,0)\n",
    "    im2,contours,hierarchy = cv2.findContours(thresh, 1, 2)\n",
    "    #print(np.shape(contours))\n",
    "    cnt = contours[0]\n",
    "    M = cv2.moments(cnt)\n",
    "    f=[]\n",
    "    for k in M:\n",
    "        f.append(M[k])\n",
    "    return list(f)"
   ]
  },
  {
   "cell_type": "code",
   "execution_count": 21,
   "metadata": {},
   "outputs": [],
   "source": [
    "def feature_extraction(img,gray):\n",
    "    featureset=[]\n",
    "#     featureset+=find_lbp(img)\n",
    "    #featureset+=image_moment_feature(img)\n",
    "    featureset+=hog_f(gray)\n",
    "    return featureset"
   ]
  },
  {
   "cell_type": "code",
   "execution_count": 22,
   "metadata": {},
   "outputs": [],
   "source": [
    "def qwise_prediction(prediction):\n",
    "    prediction=np.array(prediction)\n",
    "    prediction=prediction.T\n",
    "    Q1_pred=normalize(prediction[:,0:3])\n",
    "    Q2_pred=normalize(prediction[:, 3:5])\n",
    "    Q3_pred=normalize(prediction[:, 5:7])\n",
    "    Q4_pred=normalize(prediction[:, 7:9])\n",
    "    Q5_pred=normalize(prediction[:, 9:13])\n",
    "    Q6_pred=normalize(prediction[:, 13:15])\n",
    "    Q7_pred=normalize(prediction[:, 15:18])\n",
    "    Q8_pred=normalize(prediction[:, 18:25])\n",
    "    Q9_pred=normalize(prediction[:, 25:28])\n",
    "    Q10_pred=normalize(prediction[:, 28:31])\n",
    "    Q11_pred=normalize(prediction[:, 31:37])\n",
    "    result=[Q1_pred,Q2_pred,Q3_pred,Q4_pred,Q5_pred,Q6_pred,Q7_pred,Q8_pred,Q9_pred,Q10_pred,Q11_pred]\n",
    "    return result\n"
   ]
  },
  {
   "cell_type": "code",
   "execution_count": 23,
   "metadata": {},
   "outputs": [],
   "source": [
    "def rmse_calculation(y_true,prediction):\n",
    "    mse=[]\n",
    "    for i in range(11):\n",
    "        y=np.array(y_true[i].iloc[7000:10000])\n",
    "        mse.append(mean_squared_error(y,prediction[i]))\n",
    "    return mse"
   ]
  },
  {
   "cell_type": "code",
   "execution_count": 24,
   "metadata": {},
   "outputs": [],
   "source": [
    "def plotGraph(x,y):\n",
    "    plt.bar(x,y)\n",
    "    plt.xlabel(\"Question\")\n",
    "    plt.ylabel(\"RMSE\")\n",
    "    plt.show()"
   ]
  },
  {
   "cell_type": "code",
   "execution_count": 25,
   "metadata": {},
   "outputs": [],
   "source": [
    "def normalize(zl):\n",
    "    e_x = np.exp(zl - np.max(zl))\n",
    "    gz=e_x / e_x.sum()\n",
    "    y=gz/gz.sum(axis=1)[:,None]\n",
    "    return y"
   ]
  },
  {
   "cell_type": "code",
   "execution_count": 26,
   "metadata": {},
   "outputs": [],
   "source": [
    "df=pd.read_csv(\"training_solutions_rev1.csv\")\n",
    "y=[\"GalaxyID\"]\n",
    "for x in df.columns[1:]:\n",
    "    y.append(x[-1])\n",
    "df.columns=y"
   ]
  },
  {
   "cell_type": "code",
   "execution_count": 27,
   "metadata": {},
   "outputs": [],
   "source": [
    "#Separation of questions\n",
    "Q1=df.iloc[:, 1:4]\n",
    "q1=pd.concat([df[\"GalaxyID\"].to_frame(),Q1],axis=1)\n",
    "Q2=df.iloc[:, 4:6]\n",
    "q2=pd.concat([df[\"GalaxyID\"].to_frame(),Q1],axis=1)\n",
    "Q3=df.iloc[:, 6:8]\n",
    "q3=pd.concat([df[\"GalaxyID\"].to_frame(),Q1],axis=1)\n",
    "Q4=df.iloc[:, 8:10]\n",
    "q4=pd.concat([df[\"GalaxyID\"].to_frame(),Q1],axis=1)\n",
    "Q5=df.iloc[:, 10:14]\n",
    "q5=pd.concat([df[\"GalaxyID\"].to_frame(),Q1],axis=1)\n",
    "Q6=df.iloc[:, 14:16]\n",
    "q6=pd.concat([df[\"GalaxyID\"].to_frame(),Q1],axis=1)\n",
    "Q7=df.iloc[:, 16:19]\n",
    "q7=pd.concat([df[\"GalaxyID\"].to_frame(),Q1],axis=1)\n",
    "Q8=df.iloc[:, 19:26]\n",
    "q8=pd.concat([df[\"GalaxyID\"].to_frame(),Q1],axis=1)\n",
    "Q9=df.iloc[:, 26:29]\n",
    "q9=pd.concat([df[\"GalaxyID\"].to_frame(),Q1],axis=1)\n",
    "Q10=df.iloc[:, 29:32]\n",
    "q10=pd.concat([df[\"GalaxyID\"].to_frame(),Q1],axis=1)\n",
    "Q11=df.iloc[:, 32:38]\n",
    "q11=pd.concat([df[\"GalaxyID\"].to_frame(),Q1],axis=1)\n",
    "Q_idx=[Q1,Q2,Q3,Q4,Q5,Q6,Q7,Q8,Q9,Q10,Q11]"
   ]
  },
  {
   "cell_type": "code",
   "execution_count": 14,
   "metadata": {},
   "outputs": [],
   "source": [
    "train_ids=np.array(q1[\"GalaxyID\"])[0:7000]\n",
    "test_ids=np.array(q1[\"GalaxyID\"])[7000:10000]"
   ]
  },
  {
   "cell_type": "code",
   "execution_count": 15,
   "metadata": {},
   "outputs": [],
   "source": [
    "X,Y=scrapeFile(\"training_solutions\")\n"
   ]
  },
  {
   "cell_type": "code",
   "execution_count": 16,
   "metadata": {},
   "outputs": [
    {
     "name": "stderr",
     "output_type": "stream",
     "text": [
      "/home/drago/anaconda3/lib/python3.6/site-packages/skimage/feature/_hog.py:119: skimage_deprecation: Default value of `block_norm`==`L1` is deprecated and will be changed to `L2-Hys` in v0.15\n",
      "  'be changed to `L2-Hys` in v0.15', skimage_deprecation)\n"
     ]
    },
    {
     "name": "stdout",
     "output_type": "stream",
     "text": [
      "0 ..Done\n",
      "1000 ..Done\n",
      "2000 ..Done\n",
      "3000 ..Done\n",
      "4000 ..Done\n",
      "5000 ..Done\n",
      "6000 ..Done\n"
     ]
    }
   ],
   "source": [
    "train_features=[]\n",
    "datapath=\"images_training_rev1/\"\n",
    "train_features=[]\n",
    "for i in range(7000):\n",
    "    path=\"images_training_rev1/\"+str(train_ids[i])+\".jpg\"\n",
    "    image=cv2.imread(path)\n",
    "    gray=cv2.imread(path,0)\n",
    "    crop1 = image[108:108+207, 108:108+207]\n",
    "    crop2 = gray[108:108+207, 108:108+207]\n",
    "    feature=feature_extraction(crop1,crop2)\n",
    "    train_features.append(feature)\n",
    "    if i%1000==0:\n",
    "        print(i,\"..Done\")"
   ]
  },
  {
   "cell_type": "code",
   "execution_count": 17,
   "metadata": {},
   "outputs": [
    {
     "name": "stderr",
     "output_type": "stream",
     "text": [
      "/home/drago/anaconda3/lib/python3.6/site-packages/skimage/feature/_hog.py:119: skimage_deprecation: Default value of `block_norm`==`L1` is deprecated and will be changed to `L2-Hys` in v0.15\n",
      "  'be changed to `L2-Hys` in v0.15', skimage_deprecation)\n"
     ]
    },
    {
     "name": "stdout",
     "output_type": "stream",
     "text": [
      "0 ..Done\n",
      "1000 ..Done\n",
      "2000 ..Done\n"
     ]
    }
   ],
   "source": [
    "test_features=[]\n",
    "for i in range(3000):\n",
    "    path=\"images_training_rev1/\"+str(test_ids[i])+\".jpg\"\n",
    "    image=cv2.imread(path)\n",
    "    gray=cv2.imread(path,0)\n",
    "    crop1 = image[108:108+207, 108:108+207]\n",
    "    crop2 = gray[108:108+207, 108:108+207]\n",
    "    feature=feature_extraction(crop1,crop2)\n",
    "    test_features.append(feature)\n",
    "    if i%1000==0:\n",
    "        print(i,\"..Done\")"
   ]
  },
  {
   "cell_type": "code",
   "execution_count": 18,
   "metadata": {},
   "outputs": [
    {
     "name": "stdout",
     "output_type": "stream",
     "text": [
      "1000 ..Done\n",
      "2000 ..Done\n",
      "3000 ..Done\n",
      "4000 ..Done\n",
      "5000 ..Done\n",
      "6000 ..Done\n",
      "7000 ..Done\n",
      "8000 ..Done\n",
      "9000 ..Done\n",
      "10000 ..Done\n"
     ]
    }
   ],
   "source": [
    "datapath=\"images_training_rev1/\"\n",
    "files_list = sorted(os.listdir(datapath))\n",
    "dataset=[]\n",
    "datalabel=[]\n",
    "category=defaultdict(list)\n",
    "featureset=[]\n",
    "idx=0\n",
    "for file in files_list[0:10000]:\n",
    "    id1=int(file[:-4])\n",
    "    datalabel.append(X[id1])\n",
    "    for i in range(37):\n",
    "        category[i].append(X[id1][i])\n",
    "    idx+=1\n",
    "    if idx%1000==0:\n",
    "        print(idx,\"..Done\")\n",
    "    \n"
   ]
  },
  {
   "cell_type": "code",
   "execution_count": 19,
   "metadata": {},
   "outputs": [
    {
     "name": "stdout",
     "output_type": "stream",
     "text": [
      "0 ..Done Time= 247.80560421943665\n",
      "1 ..Done Time= 248.5127592086792\n",
      "2 ..Done Time= 250.50734782218933\n",
      "3 ..Done Time= 250.20385265350342\n",
      "4 ..Done Time= 248.07549905776978\n",
      "5 ..Done Time= 249.49268984794617\n",
      "6 ..Done Time= 249.88993406295776\n",
      "7 ..Done Time= 249.26954412460327\n",
      "8 ..Done Time= 249.49144577980042\n",
      "9 ..Done Time= 249.53473687171936\n",
      "10 ..Done Time= 249.95749187469482\n",
      "11 ..Done Time= 250.25392603874207\n",
      "12 ..Done Time= 251.27806162834167\n",
      "13 ..Done Time= 249.88073229789734\n",
      "14 ..Done Time= 249.5718126296997\n",
      "15 ..Done Time= 248.85883116722107\n",
      "16 ..Done Time= 249.08486008644104\n",
      "17 ..Done Time= 249.10533022880554\n",
      "18 ..Done Time= 248.4871621131897\n",
      "19 ..Done Time= 250.00624227523804\n",
      "20 ..Done Time= 250.43473291397095\n",
      "21 ..Done Time= 249.95586609840393\n",
      "22 ..Done Time= 249.84427547454834\n",
      "23 ..Done Time= 248.70851969718933\n",
      "24 ..Done Time= 249.73468828201294\n",
      "25 ..Done Time= 251.07799863815308\n",
      "26 ..Done Time= 250.88572716712952\n",
      "27 ..Done Time= 251.8504831790924\n",
      "28 ..Done Time= 250.99986839294434\n",
      "29 ..Done Time= 250.07676243782043\n",
      "30 ..Done Time= 250.20088958740234\n",
      "31 ..Done Time= 248.83482122421265\n",
      "32 ..Done Time= 250.1055407524109\n",
      "33 ..Done Time= 249.52217173576355\n",
      "34 ..Done Time= 249.93415331840515\n",
      "35 ..Done Time= 249.44607257843018\n",
      "36 ..Done Time= 250.9210765361786\n"
     ]
    }
   ],
   "source": [
    "prediction_LR=[]\n",
    "for i in range(37):\n",
    "    start=time.time()\n",
    "    clf = LinearRegression().fit(train_features,np.array(df.iloc[:,i+1])[0:7000] )\n",
    "    file_name=\"C\"+str(i+1)+\"_linear.pkl\"\n",
    "    joblib.dump(clf, file_name) \n",
    "    y_predict=clf.predict(test_features)\n",
    "    end=time.time()\n",
    "    prediction_LR.append(y_predict)  \n",
    "    print(i,\"..Done\",\"Time=\",end-start)\n",
    "    #rmse=mean_squared_error(y_true, y_predict)"
   ]
  },
  {
   "cell_type": "code",
   "execution_count": 24,
   "metadata": {},
   "outputs": [
    {
     "name": "stdout",
     "output_type": "stream",
     "text": [
      "0 ..Done Time= 11.662526607513428\n",
      "1 ..Done Time= 13.085175514221191\n",
      "2 ..Done Time= 12.230769395828247\n",
      "3 ..Done Time= 10.719841480255127\n",
      "4 ..Done Time= 10.64885687828064\n",
      "5 ..Done Time= 10.875914096832275\n",
      "6 ..Done Time= 11.418771266937256\n",
      "7 ..Done Time= 13.118842363357544\n",
      "8 ..Done Time= 13.184606790542603\n",
      "9 ..Done Time= 11.419018507003784\n",
      "10 ..Done Time= 12.92732286453247\n",
      "11 ..Done Time= 11.219312191009521\n",
      "12 ..Done Time= 12.166244745254517\n",
      "13 ..Done Time= 12.99176025390625\n",
      "14 ..Done Time= 13.529234647750854\n",
      "15 ..Done Time= 13.445480108261108\n",
      "16 ..Done Time= 14.600191831588745\n",
      "17 ..Done Time= 10.958232879638672\n",
      "18 ..Done Time= 10.889425277709961\n",
      "19 ..Done Time= 13.804097175598145\n",
      "20 ..Done Time= 13.676020383834839\n",
      "21 ..Done Time= 11.324426412582397\n",
      "22 ..Done Time= 12.890733242034912\n",
      "23 ..Done Time= 12.652667760848999\n",
      "24 ..Done Time= 12.401687622070312\n",
      "25 ..Done Time= 12.709555864334106\n",
      "26 ..Done Time= 11.822678089141846\n",
      "27 ..Done Time= 12.557728290557861\n",
      "28 ..Done Time= 12.577641725540161\n",
      "29 ..Done Time= 10.957894563674927\n",
      "30 ..Done Time= 12.243171215057373\n",
      "31 ..Done Time= 12.482786178588867\n",
      "32 ..Done Time= 11.324715852737427\n",
      "33 ..Done Time= 13.354496479034424\n",
      "34 ..Done Time= 12.352742671966553\n",
      "35 ..Done Time= 11.385056018829346\n",
      "36 ..Done Time= 14.143084287643433\n"
     ]
    }
   ],
   "source": [
    "prediction_LoR=[]\n",
    "for i in range(37):\n",
    "    start=time.time()\n",
    "    clf = Lasso().fit(train_features,np.array(df.iloc[:,i+1])[0:7000] )\n",
    "    file_name=\"C\"+str(i+1)+\"_lasso\"+\".pkl\"\n",
    "    joblib.dump(clf, file_name) \n",
    "    y_predict=clf.predict(test_features)\n",
    "    end=time.time()\n",
    "    prediction_LoR.append(y_predict)  \n",
    "    print(i,\"..Done\",\"Time=\",end-start)\n",
    "    #rmse=mean_squared_error(y_true, y_predict)"
   ]
  },
  {
   "cell_type": "code",
   "execution_count": 22,
   "metadata": {},
   "outputs": [
    {
     "name": "stdout",
     "output_type": "stream",
     "text": [
      "0 ..Done Time= 21.46589732170105\n",
      "1 ..Done Time= 21.553831100463867\n",
      "2 ..Done Time= 21.509753227233887\n",
      "3 ..Done Time= 21.4120934009552\n",
      "4 ..Done Time= 21.458188772201538\n",
      "5 ..Done Time= 21.453773498535156\n",
      "6 ..Done Time= 21.422825574874878\n",
      "7 ..Done Time= 21.457879543304443\n",
      "8 ..Done Time= 21.486011028289795\n",
      "9 ..Done Time= 21.478622674942017\n",
      "10 ..Done Time= 21.854172229766846\n",
      "11 ..Done Time= 22.387001276016235\n",
      "12 ..Done Time= 21.909435033798218\n",
      "13 ..Done Time= 23.35577917098999\n",
      "14 ..Done Time= 22.89967107772827\n",
      "15 ..Done Time= 22.77872920036316\n",
      "16 ..Done Time= 22.927861213684082\n",
      "17 ..Done Time= 23.06254243850708\n",
      "18 ..Done Time= 22.89650869369507\n",
      "19 ..Done Time= 22.97481942176819\n",
      "20 ..Done Time= 22.67752742767334\n",
      "21 ..Done Time= 23.269097089767456\n",
      "22 ..Done Time= 23.266788959503174\n",
      "23 ..Done Time= 23.68419361114502\n",
      "24 ..Done Time= 22.63798761367798\n",
      "25 ..Done Time= 21.637529611587524\n",
      "26 ..Done Time= 21.853641986846924\n",
      "27 ..Done Time= 23.28147602081299\n",
      "28 ..Done Time= 22.916894674301147\n",
      "29 ..Done Time= 23.511109590530396\n",
      "30 ..Done Time= 22.835023403167725\n",
      "31 ..Done Time= 23.507418394088745\n",
      "32 ..Done Time= 22.894876956939697\n",
      "33 ..Done Time= 22.92428755760193\n",
      "34 ..Done Time= 21.438485860824585\n",
      "35 ..Done Time= 21.435484170913696\n",
      "36 ..Done Time= 21.762481212615967\n"
     ]
    }
   ],
   "source": [
    "prediction_RR=[]\n",
    "for i in range(37):\n",
    "    start=time.time()\n",
    "    clf = Ridge().fit(train_features,np.array(df.iloc[:,i+1])[0:7000] )\n",
    "    file_name=\"C\"+str(i+1)+\"_ridge\"+\".pkl\"\n",
    "    joblib.dump(clf, file_name) \n",
    "    y_predict=clf.predict(test_features)\n",
    "    end=time.time()\n",
    "    prediction_RR.append(y_predict)  \n",
    "    print(i,\"..Done\",\"Time=\",end-start)\n",
    "    #rmse=mean_squared_error(y_true, y_predict)"
   ]
  },
  {
   "cell_type": "code",
   "execution_count": 67,
   "metadata": {},
   "outputs": [],
   "source": [
    "qwise_pred_LR=qwise_prediction(prediction_LR)\n",
    "qwise_mse_LR=rmse_calculation(Q_idx,qwise_pred_LR)\n",
    "qwise_pred_LoR=qwise_prediction(prediction_LoR)\n",
    "qwise_mse_LoR=rmse_calculation(Q_idx,qwise_pred_LoR)\n",
    "qwise_pred_RR=qwise_prediction(prediction_RR)\n",
    "qwise_mse_RR=rmse_calculation(Q_idx,qwise_pred_RR)"
   ]
  },
  {
   "cell_type": "code",
   "execution_count": 68,
   "metadata": {},
   "outputs": [
    {
     "name": "stdout",
     "output_type": "stream",
     "text": [
      "[0.09652625433414512, 0.15360113147910426, 0.17256288826305138, 0.1890676215997285, 0.04885036244316478, 0.13715244390579695, 0.09148370514067063, 0.01920213439356059, 0.10153270455747648, 0.09570165508801155, 0.030690165212587727]\n",
      "[0.07879490190612377, 0.1264636737479915, 0.12883303199479917, 0.13728021615288194, 0.042909335581535354, 0.06872239312948386, 0.0764688760838494, 0.018083135932463072, 0.0993138244747339, 0.0854839350029745, 0.028016165016722838]\n",
      "[0.06709163941600697, 0.11294906184985593, 0.1272434717827885, 0.13414476639522435, 0.0411297575108739, 0.06717222346540266, 0.07059526390261724, 0.01800686368796664, 0.09867127745614068, 0.0851499390388744, 0.02786917349577155]\n"
     ]
    }
   ],
   "source": [
    "print(qwise_mse_LR)\n",
    "print(qwise_mse_LoR)\n",
    "print(qwise_mse_RR)"
   ]
  },
  {
   "cell_type": "code",
   "execution_count": 76,
   "metadata": {},
   "outputs": [
    {
     "data": {
      "image/png": "[encoded data removed]",
      "text/plain": [
       "<Figure size 432x288 with 1 Axes>"
      ]
     },
     "metadata": {},
     "output_type": "display_data"
    },
    {
     "data": {
      "image/png": "[encoded data removed]",
      "text/plain": [
       "<Figure size 432x288 with 1 Axes>"
      ]
     },
     "metadata": {},
     "output_type": "display_data"
    },
    {
     "data": {
      "image/png": "[encoded data removed]",
      "text/plain": [
       "<Figure size 432x288 with 1 Axes>"
      ]
     },
     "metadata": {},
     "output_type": "display_data"
    }
   ],
   "source": [
    "q=np.arange(11)\n",
    "plotGraph(q,qwise_mse_LR)\n",
    "plotGraph(q,qwise_mse_LoR)\n",
    "plotGraph(q,qwise_mse_RR)\n"
   ]
  },
  {
   "cell_type": "code",
   "execution_count": 31,
   "metadata": {},
   "outputs": [],
   "source": [
    "qwise_mse_LR=[0.07879490190612377, 0.1264636737479915, 0.12883303199479917, 0.13728021615288194, 0.042909335581535354, 0.06872239312948386, 0.0764688760838494, 0.018083135932463072, 0.0993138244747339, 0.0854839350029745, 0.028016165016722838]\n",
    "qwise_mse_LoR=[0.07879490190612377, 0.1264636737479915, 0.12883303199479917, 0.13728021615288194, 0.042909335581535354, 0.06872239312948386, 0.0764688760838494, 0.018083135932463072, 0.0993138244747339, 0.0854839350029745, 0.028016165016722838]\n",
    "qwise_mse_RR=[0.06709163941600697, 0.11294906184985593, 0.1272434717827885, 0.13414476639522435, 0.0411297575108739, 0.06717222346540266, 0.07059526390261724, 0.01800686368796664, 0.09867127745614068, 0.0851499390388744, 0.02786917349577155]"
   ]
  },
  {
   "cell_type": "code",
   "execution_count": 74,
   "metadata": {},
   "outputs": [
    {
     "data": {
      "image/png": "[encoded data removed]",
      "text/plain": [
       "<Figure size 432x288 with 1 Axes>"
      ]
     },
     "metadata": {},
     "output_type": "display_data"
    }
   ],
   "source": [
    "plt.plot(q,qwise_mse_LR,marker='o')\n",
    "plt.plot(q,qwise_mse_LoR,marker='o')\n",
    "plt.plot(q,qwise_mse_RR,marker='o')\n",
    "plt.xlabel(\"Questions\")\n",
    "plt.ylabel(\"RMSE\")\n",
    "plt.legend([\"Linear\",\"Lasso\",\"Ridge\"])\n",
    "plt.title(\"Feature:HOG\")\n",
    "plt.show()"
   ]
  },
  {
   "cell_type": "markdown",
   "metadata": {},
   "source": [
    "# CNN"
   ]
  },
  {
   "cell_type": "code",
   "execution_count": 11,
   "metadata": {},
   "outputs": [],
   "source": [
    "cnn_q1=np.array(pd.read_csv(\"Q1_Output.csv\").drop(\"Id\",axis=1))\n",
    "cnn_q2=np.array(pd.read_csv(\"Q2_Output.csv\").drop(\"Id\",axis=1))\n",
    "cnn_q3=np.array(pd.read_csv(\"Q3_Output.csv\").drop(\"Id\",axis=1))\n",
    "cnn_q4=np.array(pd.read_csv(\"Q4_Output.csv\").drop(\"Id\",axis=1))\n",
    "cnn_q5=np.array(pd.read_csv(\"Q5_Output.csv\").drop(\"Id\",axis=1))\n",
    "cnn_q6=np.array(pd.read_csv(\"Q6_Output.csv\").drop(\"Id\",axis=1))\n",
    "cnn_q7=np.array(pd.read_csv(\"Q7_Output.csv\").drop(\"Id\",axis=1))\n",
    "cnn_q8=np.array(pd.read_csv(\"Q8_Output.csv\").drop(\"Id\",axis=1))\n",
    "cnn_q9=np.array(pd.read_csv(\"Q9_Output.csv\").drop(\"Id\",axis=1))\n",
    "cnn_q10=np.array(pd.read_csv(\"Q10_Output.csv\").drop(\"Id\",axis=1))\n",
    "cnn_q11=np.array(pd.read_csv(\"Q11_Output.csv\").drop(\"Id\",axis=1))\n",
    "cnn_pred=[cnn_q1,cnn_q2,cnn_q3,cnn_q4,cnn_q5,cnn_q6,cnn_q7,cnn_q8,cnn_q9,cnn_q10,cnn_q11]"
   ]
  },
  {
   "cell_type": "code",
   "execution_count": 28,
   "metadata": {},
   "outputs": [],
   "source": [
    "qwise_mse_cnn=rmse_calculation(Q_idx,cnn_pred)"
   ]
  },
  {
   "cell_type": "code",
   "execution_count": 33,
   "metadata": {},
   "outputs": [
    {
     "data": {
      "image/png": "[encoded data removed]",
      "text/plain": [
       "<Figure size 432x288 with 1 Axes>"
      ]
     },
     "metadata": {},
     "output_type": "display_data"
    }
   ],
   "source": [
    "q=np.arange(11)\n",
    "plt.plot(q,qwise_mse_LR,marker='o')\n",
    "plt.plot(q,qwise_mse_LoR,marker='o')\n",
    "plt.plot(q,qwise_mse_RR,marker='o')\n",
    "plt.plot(q,qwise_mse_cnn,marker='o')\n",
    "plt.xlabel(\"Questions\")\n",
    "plt.ylabel(\"RMSE\")\n",
    "plt.legend([\"Linear\",\"Lasso\",\"Ridge\",\"CNN\"])\n",
    "plt.title(\"Feature:HOG\")\n",
    "plt.show()"
   ]
  },
  {
   "cell_type": "code",
   "execution_count": 30,
   "metadata": {},
   "outputs": [
    {
     "name": "stdout",
     "output_type": "stream",
     "text": [
      "CNN_MSE: [0.1199660939587064, 0.21812121847379012, 0.1586162696870938, 0.16169035562613449, 0.06956652246919541, 0.0648592013934437, 0.1120542860412705, 0.028578594345965956, 0.25230878704595794, 0.17275799934307204, 0.04989915024583618]\n"
     ]
    }
   ],
   "source": [
    "print(\"CNN_MSE:\",qwise_mse_cnn)"
   ]
  }
 ],
 "metadata": {
  "kernelspec": {
   "display_name": "Python 3",
   "language": "python",
   "name": "python3"
  },
  "language_info": {
   "codemirror_mode": {
    "name": "ipython",
    "version": 3
   },
   "file_extension": ".py",
   "mimetype": "text/x-python",
   "name": "python",
   "nbconvert_exporter": "python",
   "pygments_lexer": "ipython3",
   "version": "3.6.5"
  }
 },
 "nbformat": 4,
 "nbformat_minor": 2
}
